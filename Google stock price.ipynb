{
 "cells": [
  {
   "cell_type": "code",
   "execution_count": 1,
   "metadata": {},
   "outputs": [
    {
     "name": "stderr",
     "output_type": "stream",
     "text": [
      "Using TensorFlow backend.\n"
     ]
    }
   ],
   "source": [
    "import numpy as np \n",
    "import pandas as pd \n",
    "import matplotlib.pyplot as plt \n",
    "from sklearn.preprocessing import MinMaxScaler\n",
    "from keras.models import Sequential\n",
    "from keras.layers import Dense,LSTM,Dropout"
   ]
  },
  {
   "cell_type": "code",
   "execution_count": 3,
   "metadata": {},
   "outputs": [
    {
     "data": {
      "text/html": [
       "<div>\n",
       "<style scoped>\n",
       "    .dataframe tbody tr th:only-of-type {\n",
       "        vertical-align: middle;\n",
       "    }\n",
       "\n",
       "    .dataframe tbody tr th {\n",
       "        vertical-align: top;\n",
       "    }\n",
       "\n",
       "    .dataframe thead th {\n",
       "        text-align: right;\n",
       "    }\n",
       "</style>\n",
       "<table border=\"1\" class=\"dataframe\">\n",
       "  <thead>\n",
       "    <tr style=\"text-align: right;\">\n",
       "      <th></th>\n",
       "      <th>Date</th>\n",
       "      <th>Open</th>\n",
       "      <th>High</th>\n",
       "      <th>Low</th>\n",
       "      <th>Close</th>\n",
       "      <th>Volume</th>\n",
       "    </tr>\n",
       "  </thead>\n",
       "  <tbody>\n",
       "    <tr>\n",
       "      <th>0</th>\n",
       "      <td>1/3/2012</td>\n",
       "      <td>325.25</td>\n",
       "      <td>332.83</td>\n",
       "      <td>324.97</td>\n",
       "      <td>663.59</td>\n",
       "      <td>7,380,500</td>\n",
       "    </tr>\n",
       "    <tr>\n",
       "      <th>1</th>\n",
       "      <td>1/4/2012</td>\n",
       "      <td>331.27</td>\n",
       "      <td>333.87</td>\n",
       "      <td>329.08</td>\n",
       "      <td>666.45</td>\n",
       "      <td>5,749,400</td>\n",
       "    </tr>\n",
       "    <tr>\n",
       "      <th>2</th>\n",
       "      <td>1/5/2012</td>\n",
       "      <td>329.83</td>\n",
       "      <td>330.75</td>\n",
       "      <td>326.89</td>\n",
       "      <td>657.21</td>\n",
       "      <td>6,590,300</td>\n",
       "    </tr>\n",
       "    <tr>\n",
       "      <th>3</th>\n",
       "      <td>1/6/2012</td>\n",
       "      <td>328.34</td>\n",
       "      <td>328.77</td>\n",
       "      <td>323.68</td>\n",
       "      <td>648.24</td>\n",
       "      <td>5,405,900</td>\n",
       "    </tr>\n",
       "    <tr>\n",
       "      <th>4</th>\n",
       "      <td>1/9/2012</td>\n",
       "      <td>322.04</td>\n",
       "      <td>322.29</td>\n",
       "      <td>309.46</td>\n",
       "      <td>620.76</td>\n",
       "      <td>11,688,800</td>\n",
       "    </tr>\n",
       "  </tbody>\n",
       "</table>\n",
       "</div>"
      ],
      "text/plain": [
       "       Date    Open    High     Low   Close      Volume\n",
       "0  1/3/2012  325.25  332.83  324.97  663.59   7,380,500\n",
       "1  1/4/2012  331.27  333.87  329.08  666.45   5,749,400\n",
       "2  1/5/2012  329.83  330.75  326.89  657.21   6,590,300\n",
       "3  1/6/2012  328.34  328.77  323.68  648.24   5,405,900\n",
       "4  1/9/2012  322.04  322.29  309.46  620.76  11,688,800"
      ]
     },
     "execution_count": 3,
     "metadata": {},
     "output_type": "execute_result"
    }
   ],
   "source": [
    "data = pd.read_csv('Google_train_data.csv')\n",
    "data.head()"
   ]
  },
  {
   "cell_type": "code",
   "execution_count": 4,
   "metadata": {},
   "outputs": [
    {
     "name": "stdout",
     "output_type": "stream",
     "text": [
      "<class 'pandas.core.frame.DataFrame'>\n",
      "RangeIndex: 1258 entries, 0 to 1257\n",
      "Data columns (total 6 columns):\n",
      " #   Column  Non-Null Count  Dtype  \n",
      "---  ------  --------------  -----  \n",
      " 0   Date    1258 non-null   object \n",
      " 1   Open    1258 non-null   float64\n",
      " 2   High    1258 non-null   float64\n",
      " 3   Low     1258 non-null   float64\n",
      " 4   Close   1258 non-null   object \n",
      " 5   Volume  1258 non-null   object \n",
      "dtypes: float64(3), object(3)\n",
      "memory usage: 59.1+ KB\n"
     ]
    }
   ],
   "source": [
    "data.info()"
   ]
  },
  {
   "cell_type": "code",
   "execution_count": 5,
   "metadata": {},
   "outputs": [],
   "source": [
    "data[\"Close\"]=pd.to_numeric(data.Close,errors='coerce')\n",
    "data = data.dropna()\n",
    "trainData = data.iloc[:,4:5].values"
   ]
  },
  {
   "cell_type": "code",
   "execution_count": 6,
   "metadata": {},
   "outputs": [
    {
     "name": "stdout",
     "output_type": "stream",
     "text": [
      "<class 'pandas.core.frame.DataFrame'>\n",
      "Int64Index: 1149 entries, 0 to 1257\n",
      "Data columns (total 6 columns):\n",
      " #   Column  Non-Null Count  Dtype  \n",
      "---  ------  --------------  -----  \n",
      " 0   Date    1149 non-null   object \n",
      " 1   Open    1149 non-null   float64\n",
      " 2   High    1149 non-null   float64\n",
      " 3   Low     1149 non-null   float64\n",
      " 4   Close   1149 non-null   float64\n",
      " 5   Volume  1149 non-null   object \n",
      "dtypes: float64(4), object(2)\n",
      "memory usage: 62.8+ KB\n"
     ]
    }
   ],
   "source": [
    "data.info()"
   ]
  },
  {
   "cell_type": "code",
   "execution_count": 7,
   "metadata": {},
   "outputs": [
    {
     "data": {
      "text/plain": [
       "(1149, 1)"
      ]
     },
     "execution_count": 7,
     "metadata": {},
     "output_type": "execute_result"
    }
   ],
   "source": [
    "sc = MinMaxScaler(feature_range=(0,1))\n",
    "trainData = sc.fit_transform(trainData)\n",
    "trainData.shape"
   ]
  },
  {
   "cell_type": "code",
   "execution_count": 8,
   "metadata": {},
   "outputs": [],
   "source": [
    "X_train = []\n",
    "y_train = []\n",
    "\n",
    "for i in range (60,1149): #60 : timestep // 1149 : length of the data\n",
    "    X_train.append(trainData[i-60:i,0]) \n",
    "    y_train.append(trainData[i,0])\n",
    "\n",
    "X_train,y_train = np.array(X_train),np.array(y_train)"
   ]
  },
  {
   "cell_type": "code",
   "execution_count": 9,
   "metadata": {},
   "outputs": [
    {
     "data": {
      "text/plain": [
       "(1089, 60, 1)"
      ]
     },
     "execution_count": 9,
     "metadata": {},
     "output_type": "execute_result"
    }
   ],
   "source": [
    "X_train = np.reshape(X_train,(X_train.shape[0],X_train.shape[1],1)) #adding the batch_size axis\n",
    "X_train.shape"
   ]
  },
  {
   "cell_type": "code",
   "execution_count": 10,
   "metadata": {},
   "outputs": [],
   "source": [
    "model = Sequential()\n",
    "\n",
    "model.add(LSTM(units=100, return_sequences = True, input_shape =(X_train.shape[1],1)))\n",
    "model.add(Dropout(0.2))\n",
    "\n",
    "model.add(LSTM(units=100, return_sequences = True))\n",
    "model.add(Dropout(0.2))\n",
    "\n",
    "model.add(LSTM(units=100, return_sequences = True))\n",
    "model.add(Dropout(0.2))\n",
    "\n",
    "model.add(LSTM(units=100, return_sequences = False))\n",
    "model.add(Dropout(0.2))\n",
    "\n",
    "model.add(Dense(units =1))\n",
    "model.compile(optimizer='adam',loss=\"mean_squared_error\")"
   ]
  },
  {
   "cell_type": "code",
   "execution_count": 11,
   "metadata": {},
   "outputs": [
    {
     "name": "stdout",
     "output_type": "stream",
     "text": [
      "Epoch 1/20\n",
      " - 12s - loss: 0.0322\n",
      "Epoch 2/20\n",
      " - 10s - loss: 0.0163\n",
      "Epoch 3/20\n",
      " - 12s - loss: 0.0097\n",
      "Epoch 4/20\n",
      " - 16s - loss: 0.0086\n",
      "Epoch 5/20\n",
      " - 13s - loss: 0.0083\n",
      "Epoch 6/20\n",
      " - 13s - loss: 0.0071\n",
      "Epoch 7/20\n",
      " - 11s - loss: 0.0063\n",
      "Epoch 8/20\n",
      " - 10s - loss: 0.0074\n",
      "Epoch 9/20\n",
      " - 9s - loss: 0.0064\n",
      "Epoch 10/20\n",
      " - 9s - loss: 0.0080\n",
      "Epoch 11/20\n",
      " - 9s - loss: 0.0066\n",
      "Epoch 12/20\n",
      " - 9s - loss: 0.0060\n",
      "Epoch 13/20\n",
      " - 9s - loss: 0.0059\n",
      "Epoch 14/20\n",
      " - 10s - loss: 0.0058\n",
      "Epoch 15/20\n",
      " - 9s - loss: 0.0051\n",
      "Epoch 16/20\n",
      " - 12s - loss: 0.0061\n",
      "Epoch 17/20\n",
      " - 15s - loss: 0.0052\n",
      "Epoch 18/20\n",
      " - 14s - loss: 0.0054\n",
      "Epoch 19/20\n",
      " - 13s - loss: 0.0048\n",
      "Epoch 20/20\n",
      " - 12s - loss: 0.0045\n"
     ]
    }
   ],
   "source": [
    "hist = model.fit(X_train, y_train, epochs = 20, batch_size = 32, verbose=2)"
   ]
  },
  {
   "cell_type": "code",
   "execution_count": 12,
   "metadata": {},
   "outputs": [
    {
     "data": {
      "image/png": "[encoded data removed]",
      "text/plain": [
       "<Figure size 432x288 with 1 Axes>"
      ]
     },
     "metadata": {
      "needs_background": "light"
     },
     "output_type": "display_data"
    }
   ],
   "source": [
    "plt.plot(hist.history['loss'])\n",
    "plt.title('Training model loss')\n",
    "plt.ylabel('loss')\n",
    "plt.xlabel('epoch')\n",
    "plt.legend(['train'], loc='upper left')\n",
    "plt.show()"
   ]
  },
  {
   "cell_type": "code",
   "execution_count": 13,
   "metadata": {},
   "outputs": [
    {
     "data": {
      "text/plain": [
       "(192, 60, 1)"
      ]
     },
     "execution_count": 13,
     "metadata": {},
     "output_type": "execute_result"
    }
   ],
   "source": [
    "testData = pd.read_csv('Google_test_data.csv')\n",
    "testData[\"Close\"]=pd.to_numeric(testData.Close,errors='coerce')\n",
    "testData = testData.dropna()\n",
    "testData = testData.iloc[:,4:5]\n",
    "y_test = testData.iloc[60:,0:].values \n",
    "#input array for the model\n",
    "inputClosing = testData.iloc[:,0:].values \n",
    "inputClosing_scaled = sc.transform(inputClosing)\n",
    "inputClosing_scaled.shape\n",
    "X_test = []\n",
    "length = len(testData)\n",
    "timestep = 60\n",
    "for i in range(timestep,length):  \n",
    "    X_test.append(inputClosing_scaled[i-timestep:i,0])\n",
    "X_test = np.array(X_test)\n",
    "X_test = np.reshape(X_test,(X_test.shape[0],X_test.shape[1],1))\n",
    "X_test.shape"
   ]
  },
  {
   "cell_type": "code",
   "execution_count": 15,
   "metadata": {},
   "outputs": [
    {
     "data": {
      "text/plain": [
       "array([[1.1260811],\n",
       "       [1.1293991],\n",
       "       [1.1416496],\n",
       "       [1.1594812],\n",
       "       [1.1733905],\n",
       "       [1.1727879],\n",
       "       [1.1586567],\n",
       "       [1.1397232],\n",
       "       [1.1279354],\n",
       "       [1.1253014],\n",
       "       [1.1191558],\n",
       "       [1.1084325],\n",
       "       [1.098893 ],\n",
       "       [1.0901604],\n",
       "       [1.0888574],\n",
       "       [1.0941553],\n",
       "       [1.1131511],\n",
       "       [1.1423585],\n",
       "       [1.1751062],\n",
       "       [1.2069739],\n",
       "       [1.218603 ],\n",
       "       [1.2134843],\n",
       "       [1.1910112],\n",
       "       [1.1601244],\n",
       "       [1.1330786],\n",
       "       [1.1184937],\n",
       "       [1.1161253],\n",
       "       [1.1170624],\n",
       "       [1.1108643],\n",
       "       [1.1005435],\n",
       "       [1.0888788],\n",
       "       [1.0755197],\n",
       "       [1.0553776],\n",
       "       [1.0306002],\n",
       "       [1.0213217],\n",
       "       [1.0322694],\n",
       "       [1.0556355],\n",
       "       [1.0815018],\n",
       "       [1.1053255],\n",
       "       [1.1166611],\n",
       "       [1.1279805],\n",
       "       [1.1420552],\n",
       "       [1.1587309],\n",
       "       [1.1742712],\n",
       "       [1.1844811],\n",
       "       [1.184948 ],\n",
       "       [1.1740812],\n",
       "       [1.1645395],\n",
       "       [1.1620394],\n",
       "       [1.1682562],\n",
       "       [1.1818895],\n",
       "       [1.1910745],\n",
       "       [1.1934707],\n",
       "       [1.1901096],\n",
       "       [1.1881196],\n",
       "       [1.1841359],\n",
       "       [1.1755279],\n",
       "       [1.1713039],\n",
       "       [1.1805431],\n",
       "       [1.1990057],\n",
       "       [1.2253108],\n",
       "       [1.2564896],\n",
       "       [1.2776183],\n",
       "       [1.2800572],\n",
       "       [1.2663939],\n",
       "       [1.2447406],\n",
       "       [1.229861 ],\n",
       "       [1.22521  ],\n",
       "       [1.2289255],\n",
       "       [1.2347546],\n",
       "       [1.2406062],\n",
       "       [1.243988 ],\n",
       "       [1.2401527],\n",
       "       [1.2342683],\n",
       "       [1.2292644],\n",
       "       [1.2278453],\n",
       "       [1.2299814],\n",
       "       [1.235146 ],\n",
       "       [1.2471061],\n",
       "       [1.2650247],\n",
       "       [1.2879701],\n",
       "       [1.3096083],\n",
       "       [1.3213431],\n",
       "       [1.3220761],\n",
       "       [1.3244543],\n",
       "       [1.3359188],\n",
       "       [1.3533599],\n",
       "       [1.3685322],\n",
       "       [1.3770479],\n",
       "       [1.378591 ],\n",
       "       [1.37934  ],\n",
       "       [1.3881483],\n",
       "       [1.4050859],\n",
       "       [1.4166098],\n",
       "       [1.4152019],\n",
       "       [1.4012045],\n",
       "       [1.3778831],\n",
       "       [1.3514378],\n",
       "       [1.3297502],\n",
       "       [1.3223914],\n",
       "       [1.3297623],\n",
       "       [1.3473029],\n",
       "       [1.3703701],\n",
       "       [1.3903072],\n",
       "       [1.4021248],\n",
       "       [1.4038619],\n",
       "       [1.3998278],\n",
       "       [1.3944588],\n",
       "       [1.3938545],\n",
       "       [1.3987051],\n",
       "       [1.4080116],\n",
       "       [1.4210474],\n",
       "       [1.4341909],\n",
       "       [1.4480314],\n",
       "       [1.4649322],\n",
       "       [1.4789325],\n",
       "       [1.4892921],\n",
       "       [1.4979112],\n",
       "       [1.5089171],\n",
       "       [1.489519 ],\n",
       "       [1.4395862],\n",
       "       [1.3767754],\n",
       "       [1.3265076],\n",
       "       [1.2993569],\n",
       "       [1.2895651],\n",
       "       [1.2889333],\n",
       "       [1.2916937],\n",
       "       [1.2961131],\n",
       "       [1.2922509],\n",
       "       [1.2781144],\n",
       "       [1.2715162],\n",
       "       [1.280533 ],\n",
       "       [1.2962904],\n",
       "       [1.3050189],\n",
       "       [1.3072002],\n",
       "       [1.3059248],\n",
       "       [1.3006561],\n",
       "       [1.2912893],\n",
       "       [1.2806898],\n",
       "       [1.2667329],\n",
       "       [1.2522781],\n",
       "       [1.2365483],\n",
       "       [1.2038809],\n",
       "       [1.1644342],\n",
       "       [1.1264777],\n",
       "       [1.0976512],\n",
       "       [1.086585 ],\n",
       "       [1.0956047],\n",
       "       [1.1178038],\n",
       "       [1.1437706],\n",
       "       [1.1694125],\n",
       "       [1.1900266],\n",
       "       [1.205258 ],\n",
       "       [1.2178489],\n",
       "       [1.2275316],\n",
       "       [1.2360135],\n",
       "       [1.2456048],\n",
       "       [1.2533976],\n",
       "       [1.2499434],\n",
       "       [1.2346338],\n",
       "       [1.2123244],\n",
       "       [1.1909565],\n",
       "       [1.1796685],\n",
       "       [1.1826991],\n",
       "       [1.1987978],\n",
       "       [1.2237321],\n",
       "       [1.2460173],\n",
       "       [1.2623681],\n",
       "       [1.2760818],\n",
       "       [1.2882853],\n",
       "       [1.298104 ],\n",
       "       [1.3059022],\n",
       "       [1.3119979],\n",
       "       [1.3139076],\n",
       "       [1.3117598],\n",
       "       [1.3025631],\n",
       "       [1.2911552],\n",
       "       [1.2834128],\n",
       "       [1.2783647],\n",
       "       [1.2737334],\n",
       "       [1.301857 ],\n",
       "       [1.3545524],\n",
       "       [1.4085037],\n",
       "       [1.4457989],\n",
       "       [1.459766 ],\n",
       "       [1.4505279],\n",
       "       [1.4152286],\n",
       "       [1.37255  ],\n",
       "       [1.3369595],\n",
       "       [1.3233163],\n",
       "       [1.3247817],\n",
       "       [1.3298937]], dtype=float32)"
      ]
     },
     "execution_count": 15,
     "metadata": {},
     "output_type": "execute_result"
    }
   ],
   "source": [
    "y_pred = model.predict(X_test)\n",
    "y_pred"
   ]
  },
  {
   "cell_type": "code",
   "execution_count": 16,
   "metadata": {},
   "outputs": [],
   "source": [
    "predicted_price = sc.inverse_transform(y_pred)"
   ]
  },
  {
   "cell_type": "code",
   "execution_count": 17,
   "metadata": {},
   "outputs": [
    {
     "data": {
      "image/png": "[encoded data removed]",
      "text/plain": [
       "<Figure size 432x288 with 1 Axes>"
      ]
     },
     "metadata": {
      "needs_background": "light"
     },
     "output_type": "display_data"
    }
   ],
   "source": [
    "plt.plot(y_test, color = 'red', label = 'Actual Stock Price')\n",
    "plt.plot(predicted_price, color = 'green', label = 'Predicted Stock Price')\n",
    "plt.title('Google stock price prediction')\n",
    "plt.xlabel('Time')\n",
    "plt.ylabel('Stock Price')\n",
    "plt.legend()\n",
    "plt.show()"
   ]
  },
  {
   "cell_type": "code",
   "execution_count": null,
   "metadata": {},
   "outputs": [],
   "source": []
  }
 ],
 "metadata": {
  "kernelspec": {
   "display_name": "Python 3",
   "language": "python",
   "name": "python3"
  },
  "language_info": {
   "codemirror_mode": {
    "name": "ipython",
    "version": 3
   },
   "file_extension": ".py",
   "mimetype": "text/x-python",
   "name": "python",
   "nbconvert_exporter": "python",
   "pygments_lexer": "ipython3",
   "version": "3.7.6"
  }
 },
 "nbformat": 4,
 "nbformat_minor": 4
}
